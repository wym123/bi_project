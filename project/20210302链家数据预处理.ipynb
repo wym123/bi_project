{
 "cells": [
  {
   "cell_type": "markdown",
   "metadata": {},
   "source": [
    "### 数据预处理\n",
    "通过爬虫获取的数据进行一系列的预处理"
   ]
  },
  {
   "cell_type": "code",
   "execution_count": 18,
   "metadata": {
    "scrolled": true
   },
   "outputs": [
    {
     "name": "stdout",
     "output_type": "stream",
     "text": [
      "(10140, 24)\n",
      "(67950, 24)\n",
      "(78090, 24)\n"
     ]
    }
   ],
   "source": [
    "# 读取csv格式的数据文件,数据分成两个文件夹，每个文件夹均有24列的内容\n",
    "import pandas as pd\n",
    "col_name = ['houseCode', 'title', '户型', '面积', '朝向', '小区', '区', '片区', '楼层', '总层高', '总价', '单价', '详情链接', '地铁沿线', '满五年', '有无电梯',\\\n",
    "    '环线信息', '挂牌时间', '交易权属', '上次交易', '房屋用途', '房屋年限', '产权所属', '抵押信息']\n",
    "\n",
    "df1 = pd.read_csv(\"data5.csv\",header=None,names=col_name)\n",
    "df2 = pd.read_csv(\"data6.csv\",header=None,names=col_name)\n",
    "print(df1.shape)\n",
    "print(df2.shape)\n",
    "\n",
    "# 将两组数据合并\n",
    "df3 = pd.merge(df1,df2,how=\"outer\")\n",
    "\n",
    "print(df3.shape)\n",
    "\n",
    "# 两组数据写入finall_0302.csv\n",
    "df3.to_csv(\"finall_0310.csv\") "
   ]
  },
  {
   "cell_type": "code",
   "execution_count": 22,
   "metadata": {},
   "outputs": [
    {
     "name": "stdout",
     "output_type": "stream",
     "text": [
      "75315\n",
      "(2775, 24)\n"
     ]
    }
   ],
   "source": [
    "# houseCode是房屋的唯一标识符，就此列进行查重\n",
    "print(df3[\"houseCode\"].duplicated().sum())\n",
    "# 保留重复行中的最后一行\n",
    "df4 = df3.drop_duplicates(['houseCode'],keep=\"last\")\n",
    "print(df4.shape)"
   ]
  },
  {
   "cell_type": "code",
   "execution_count": 73,
   "metadata": {},
   "outputs": [
    {
     "name": "stdout",
     "output_type": "stream",
     "text": [
      "(44070, 24)\n",
      "(28290, 24)\n",
      "72324\n"
     ]
    }
   ],
   "source": [
    "df01 = df1.drop_duplicates()\n",
    "print(df01.shape)\n",
    "\n",
    "df02 = df2.drop_duplicates()\n",
    "print(df02.shape)\n",
    "\n",
    "df03 = pd.merge(df01,df02,how='outer')\n",
    "\n",
    "print(df03.duplicated('houseCode').sum())\n",
    "\n",
    "# df03.to_csv(\"norepeat.csv\")\n"
   ]
  }
 ],
 "metadata": {
  "kernelspec": {
   "display_name": "Python 3",
   "language": "python",
   "name": "python3"
  },
  "language_info": {
   "codemirror_mode": {
    "name": "ipython",
    "version": 3
   },
   "file_extension": ".py",
   "mimetype": "text/x-python",
   "name": "python",
   "nbconvert_exporter": "python",
   "pygments_lexer": "ipython3",
   "version": "3.8.5"
  },
  "toc": {
   "base_numbering": 1,
   "nav_menu": {},
   "number_sections": true,
   "sideBar": true,
   "skip_h1_title": false,
   "title_cell": "Table of Contents",
   "title_sidebar": "Contents",
   "toc_cell": false,
   "toc_position": {},
   "toc_section_display": true,
   "toc_window_display": false
  }
 },
 "nbformat": 4,
 "nbformat_minor": 4
}
