{
 "cells": [
  {
   "cell_type": "markdown",
   "metadata": {},
   "source": [
    "2. 某公司要求，平均日投诉量均值不得超过1%。现检查一个部门的服务情况。在该部门维护的一个500人客户群中，近7天的投诉量分别为5，6，8，4，4，7，0。请问该部门是否达标？"
   ]
  },
  {
   "cell_type": "markdown",
   "metadata": {},
   "source": [
    "使用比率检验\n",
    "将每天的平均投诉比率作为p。0.01作为P0\n",
    "原假设：部门达标，投诉率<=0.01\n",
    "备择假设：部门不达标，投诉率>0.01\n",
    "显著性水平：0.05\n",
    "看备择假设应该是求右侧的面积"
   ]
  },
  {
   "cell_type": "code",
   "execution_count": 4,
   "metadata": {},
   "outputs": [
    {
     "name": "stdout",
     "output_type": "stream",
     "text": [
      "4.857142857142857\n"
     ]
    }
   ],
   "source": [
    "import numpy as np\n",
    "a = np.array([5,6,8,4,4,7,0])\n",
    "print(a.mean())"
   ]
  },
  {
   "cell_type": "code",
   "execution_count": 9,
   "metadata": {},
   "outputs": [
    {
     "name": "stdout",
     "output_type": "stream",
     "text": [
      "4.857142857142857\n",
      "z统计量是： -0.06420951071078519\n",
      "P_Value: 0.5255982977140417\n"
     ]
    }
   ],
   "source": [
    "import numpy as np\n",
    "from scipy import stats\n",
    "a = np.array([5,6,8,4,4,7,0])\n",
    "print(a.mean())\n",
    "n = 500\n",
    "p = a.mean()/n\n",
    "p0=0.01\n",
    "z = (p-p0)/np.sqrt(p0*(1-p0)/n)\n",
    "print(\"z统计量是：\",z)\n",
    "P = stats.norm.sf(z)\n",
    "print(\"P_Value:\",P)"
   ]
  },
  {
   "cell_type": "markdown",
   "metadata": {},
   "source": [
    "结论：因为P=0.52>0.05，所以我们有理由说明原假设成立，即部门达标了，投诉率控制在了0.01"
   ]
  },
  {
   "cell_type": "code",
   "execution_count": null,
   "metadata": {},
   "outputs": [],
   "source": []
  }
 ],
 "metadata": {
  "kernelspec": {
   "display_name": "Python 3",
   "language": "python",
   "name": "python3"
  },
  "language_info": {
   "codemirror_mode": {
    "name": "ipython",
    "version": 3
   },
   "file_extension": ".py",
   "mimetype": "text/x-python",
   "name": "python",
   "nbconvert_exporter": "python",
   "pygments_lexer": "ipython3",
   "version": "3.8.5"
  },
  "toc": {
   "base_numbering": 1,
   "nav_menu": {},
   "number_sections": true,
   "sideBar": true,
   "skip_h1_title": false,
   "title_cell": "Table of Contents",
   "title_sidebar": "Contents",
   "toc_cell": false,
   "toc_position": {},
   "toc_section_display": true,
   "toc_window_display": false
  }
 },
 "nbformat": 4,
 "nbformat_minor": 4
}
