{
 "cells": [
  {
   "cell_type": "code",
   "execution_count": 2,
   "metadata": {},
   "outputs": [
    {
     "name": "stdout",
     "output_type": "stream",
     "text": [
      "(119390, 32)\n"
     ]
    }
   ],
   "source": [
    "import numpy as np\n",
    "import pandas as pd\n",
    "import matplotlib.pyplot as plt\n",
    "import seaborn as sns\n",
    "import warnings\n",
    "\n",
    "file_path = r\"../data/hotel_bookings.csv\"\n",
    "data = pd.read_csv(file_path)\n",
    "#  查看数据的行、列\n",
    "print(data.shape)"
   ]
  },
  {
   "cell_type": "code",
   "execution_count": 3,
   "metadata": {},
   "outputs": [
    {
     "data": {
      "text/plain": [
       "hotel                                  0\n",
       "is_canceled                            0\n",
       "lead_time                              0\n",
       "arrival_date_year                      0\n",
       "arrival_date_month                     0\n",
       "arrival_date_week_number               0\n",
       "arrival_date_day_of_month              0\n",
       "stays_in_weekend_nights                0\n",
       "stays_in_week_nights                   0\n",
       "adults                                 0\n",
       "children                               4\n",
       "babies                                 0\n",
       "meal                                   0\n",
       "country                              488\n",
       "market_segment                         0\n",
       "distribution_channel                   0\n",
       "is_repeated_guest                      0\n",
       "previous_cancellations                 0\n",
       "previous_bookings_not_canceled         0\n",
       "reserved_room_type                     0\n",
       "assigned_room_type                     0\n",
       "booking_changes                        0\n",
       "deposit_type                           0\n",
       "agent                              16340\n",
       "company                           112593\n",
       "days_in_waiting_list                   0\n",
       "customer_type                          0\n",
       "adr                                    0\n",
       "required_car_parking_spaces            0\n",
       "total_of_special_requests              0\n",
       "reservation_status                     0\n",
       "reservation_status_date                0\n",
       "dtype: int64"
      ]
     },
     "execution_count": 3,
     "metadata": {},
     "output_type": "execute_result"
    }
   ],
   "source": [
    "# 查看数据非空数据量\n",
    "data.count()\n",
    "\n",
    "# NAN统计,county、agent、company、children中这四列出现nan数据\n",
    "data.isna().sum() \n",
    "\n",
    "# # 数据整体描述\n",
    "# data.describe()\n",
    "\n",
    "# # 数据信息\n",
    "# data.info()\n",
    "\n",
    "# # 简单查看一下数据\n",
    "# data.head()"
   ]
  },
  {
   "cell_type": "markdown",
   "metadata": {},
   "source": [
    "### 数据缺失值查询与处理 \n",
    "通过describe()方法看出：\n",
    "\n",
    "children 这一列少了4个值，且均值，4分位值均为0，因此填充为0值\n",
    "\n",
    "country、agent、company：缺失值较多，分别为488，16340，112593。\n",
    "\n",
    "其中agent为个人用户，填充0；其余两列进行删除，后期可以考虑单独填充"
   ]
  },
  {
   "cell_type": "code",
   "execution_count": 4,
   "metadata": {
    "scrolled": true
   },
   "outputs": [
    {
     "name": "stdout",
     "output_type": "stream",
     "text": [
      "hotel                             0\n",
      "is_canceled                       0\n",
      "lead_time                         0\n",
      "arrival_date_year                 0\n",
      "arrival_date_month                0\n",
      "arrival_date_week_number          0\n",
      "arrival_date_day_of_month         0\n",
      "stays_in_weekend_nights           0\n",
      "stays_in_week_nights              0\n",
      "adults                            0\n",
      "children                          0\n",
      "babies                            0\n",
      "meal                              0\n",
      "market_segment                    0\n",
      "distribution_channel              0\n",
      "is_repeated_guest                 0\n",
      "previous_cancellations            0\n",
      "previous_bookings_not_canceled    0\n",
      "reserved_room_type                0\n",
      "assigned_room_type                0\n",
      "booking_changes                   0\n",
      "deposit_type                      0\n",
      "agent                             0\n",
      "days_in_waiting_list              0\n",
      "customer_type                     0\n",
      "adr                               0\n",
      "required_car_parking_spaces       0\n",
      "total_of_special_requests         0\n",
      "reservation_status                0\n",
      "reservation_status_date           0\n",
      "dtype: int64\n",
      "(119390, 30)\n"
     ]
    },
    {
     "data": {
      "text/plain": [
       "''"
      ]
     },
     "execution_count": 4,
     "metadata": {},
     "output_type": "execute_result"
    }
   ],
   "source": [
    "# # df1 为去除nan列数据\n",
    "df1 = data.drop([\"country\", \"company\"],axis=1)\n",
    "df1.shape\n",
    "\n",
    "# 填充nan\n",
    "df1[\"children\"].fillna(0,inplace=True)\n",
    "df1[\"agent\"].fillna(0,inplace=True)\n",
    "\n",
    "# 查看填充后的结果,无nan列\n",
    "a = df1.isna().sum()\n",
    "print(a)\n",
    "print(df1.shape)\n",
    "\n",
    "'''均值填充含nan的列\n",
    "for column in list(df.columns[df.isnull().sum() > 0]):\n",
    "\n",
    "mean_val = df[column].mean()\n",
    "\n",
    "df[column].fillna(mean_val, inplace=True)'''\n",
    "\"\"\n",
    "# list_col = list(data.columns[data.isnull().sum()>0])\n",
    "# for col in  list_col:\n",
    "#     print(col,list_col.index(col),\"type:\",type(col))"
   ]
  },
  {
   "cell_type": "markdown",
   "metadata": {},
   "source": [
    "### 数据查重并处理"
   ]
  },
  {
   "cell_type": "code",
   "execution_count": 5,
   "metadata": {
    "collapsed": true
   },
   "outputs": [
    {
     "name": "stdout",
     "output_type": "stream",
     "text": [
      "33762\n",
      "42483\n"
     ]
    },
    {
     "data": {
      "text/html": [
       "<div>\n",
       "<style scoped>\n",
       "    .dataframe tbody tr th:only-of-type {\n",
       "        vertical-align: middle;\n",
       "    }\n",
       "\n",
       "    .dataframe tbody tr th {\n",
       "        vertical-align: top;\n",
       "    }\n",
       "\n",
       "    .dataframe thead th {\n",
       "        text-align: right;\n",
       "    }\n",
       "</style>\n",
       "<table border=\"1\" class=\"dataframe\">\n",
       "  <thead>\n",
       "    <tr style=\"text-align: right;\">\n",
       "      <th></th>\n",
       "      <th>hotel</th>\n",
       "      <th>is_canceled</th>\n",
       "      <th>lead_time</th>\n",
       "      <th>arrival_date_year</th>\n",
       "      <th>arrival_date_month</th>\n",
       "      <th>arrival_date_week_number</th>\n",
       "      <th>arrival_date_day_of_month</th>\n",
       "      <th>stays_in_weekend_nights</th>\n",
       "      <th>stays_in_week_nights</th>\n",
       "      <th>adults</th>\n",
       "      <th>...</th>\n",
       "      <th>booking_changes</th>\n",
       "      <th>deposit_type</th>\n",
       "      <th>agent</th>\n",
       "      <th>days_in_waiting_list</th>\n",
       "      <th>customer_type</th>\n",
       "      <th>adr</th>\n",
       "      <th>required_car_parking_spaces</th>\n",
       "      <th>total_of_special_requests</th>\n",
       "      <th>reservation_status</th>\n",
       "      <th>reservation_status_date</th>\n",
       "    </tr>\n",
       "  </thead>\n",
       "  <tbody>\n",
       "    <tr>\n",
       "      <th>4</th>\n",
       "      <td>Resort Hotel</td>\n",
       "      <td>0</td>\n",
       "      <td>14</td>\n",
       "      <td>2015</td>\n",
       "      <td>July</td>\n",
       "      <td>27</td>\n",
       "      <td>1</td>\n",
       "      <td>0</td>\n",
       "      <td>2</td>\n",
       "      <td>2</td>\n",
       "      <td>...</td>\n",
       "      <td>0</td>\n",
       "      <td>No Deposit</td>\n",
       "      <td>240.0</td>\n",
       "      <td>0</td>\n",
       "      <td>Transient</td>\n",
       "      <td>98.00</td>\n",
       "      <td>0</td>\n",
       "      <td>1</td>\n",
       "      <td>Check-Out</td>\n",
       "      <td>2015-07-03</td>\n",
       "    </tr>\n",
       "    <tr>\n",
       "      <th>5</th>\n",
       "      <td>Resort Hotel</td>\n",
       "      <td>0</td>\n",
       "      <td>14</td>\n",
       "      <td>2015</td>\n",
       "      <td>July</td>\n",
       "      <td>27</td>\n",
       "      <td>1</td>\n",
       "      <td>0</td>\n",
       "      <td>2</td>\n",
       "      <td>2</td>\n",
       "      <td>...</td>\n",
       "      <td>0</td>\n",
       "      <td>No Deposit</td>\n",
       "      <td>240.0</td>\n",
       "      <td>0</td>\n",
       "      <td>Transient</td>\n",
       "      <td>98.00</td>\n",
       "      <td>0</td>\n",
       "      <td>1</td>\n",
       "      <td>Check-Out</td>\n",
       "      <td>2015-07-03</td>\n",
       "    </tr>\n",
       "    <tr>\n",
       "      <th>12</th>\n",
       "      <td>Resort Hotel</td>\n",
       "      <td>0</td>\n",
       "      <td>68</td>\n",
       "      <td>2015</td>\n",
       "      <td>July</td>\n",
       "      <td>27</td>\n",
       "      <td>1</td>\n",
       "      <td>0</td>\n",
       "      <td>4</td>\n",
       "      <td>2</td>\n",
       "      <td>...</td>\n",
       "      <td>0</td>\n",
       "      <td>No Deposit</td>\n",
       "      <td>240.0</td>\n",
       "      <td>0</td>\n",
       "      <td>Transient</td>\n",
       "      <td>97.00</td>\n",
       "      <td>0</td>\n",
       "      <td>3</td>\n",
       "      <td>Check-Out</td>\n",
       "      <td>2015-07-05</td>\n",
       "    </tr>\n",
       "    <tr>\n",
       "      <th>15</th>\n",
       "      <td>Resort Hotel</td>\n",
       "      <td>0</td>\n",
       "      <td>68</td>\n",
       "      <td>2015</td>\n",
       "      <td>July</td>\n",
       "      <td>27</td>\n",
       "      <td>1</td>\n",
       "      <td>0</td>\n",
       "      <td>4</td>\n",
       "      <td>2</td>\n",
       "      <td>...</td>\n",
       "      <td>0</td>\n",
       "      <td>No Deposit</td>\n",
       "      <td>240.0</td>\n",
       "      <td>0</td>\n",
       "      <td>Transient</td>\n",
       "      <td>97.00</td>\n",
       "      <td>0</td>\n",
       "      <td>3</td>\n",
       "      <td>Check-Out</td>\n",
       "      <td>2015-07-05</td>\n",
       "    </tr>\n",
       "    <tr>\n",
       "      <th>21</th>\n",
       "      <td>Resort Hotel</td>\n",
       "      <td>0</td>\n",
       "      <td>72</td>\n",
       "      <td>2015</td>\n",
       "      <td>July</td>\n",
       "      <td>27</td>\n",
       "      <td>1</td>\n",
       "      <td>2</td>\n",
       "      <td>4</td>\n",
       "      <td>2</td>\n",
       "      <td>...</td>\n",
       "      <td>1</td>\n",
       "      <td>No Deposit</td>\n",
       "      <td>250.0</td>\n",
       "      <td>0</td>\n",
       "      <td>Transient</td>\n",
       "      <td>84.67</td>\n",
       "      <td>0</td>\n",
       "      <td>1</td>\n",
       "      <td>Check-Out</td>\n",
       "      <td>2015-07-07</td>\n",
       "    </tr>\n",
       "    <tr>\n",
       "      <th>...</th>\n",
       "      <td>...</td>\n",
       "      <td>...</td>\n",
       "      <td>...</td>\n",
       "      <td>...</td>\n",
       "      <td>...</td>\n",
       "      <td>...</td>\n",
       "      <td>...</td>\n",
       "      <td>...</td>\n",
       "      <td>...</td>\n",
       "      <td>...</td>\n",
       "      <td>...</td>\n",
       "      <td>...</td>\n",
       "      <td>...</td>\n",
       "      <td>...</td>\n",
       "      <td>...</td>\n",
       "      <td>...</td>\n",
       "      <td>...</td>\n",
       "      <td>...</td>\n",
       "      <td>...</td>\n",
       "      <td>...</td>\n",
       "      <td>...</td>\n",
       "    </tr>\n",
       "    <tr>\n",
       "      <th>119352</th>\n",
       "      <td>City Hotel</td>\n",
       "      <td>0</td>\n",
       "      <td>63</td>\n",
       "      <td>2017</td>\n",
       "      <td>August</td>\n",
       "      <td>35</td>\n",
       "      <td>31</td>\n",
       "      <td>0</td>\n",
       "      <td>3</td>\n",
       "      <td>3</td>\n",
       "      <td>...</td>\n",
       "      <td>0</td>\n",
       "      <td>No Deposit</td>\n",
       "      <td>9.0</td>\n",
       "      <td>0</td>\n",
       "      <td>Transient-Party</td>\n",
       "      <td>195.33</td>\n",
       "      <td>0</td>\n",
       "      <td>2</td>\n",
       "      <td>Check-Out</td>\n",
       "      <td>2017-09-03</td>\n",
       "    </tr>\n",
       "    <tr>\n",
       "      <th>119353</th>\n",
       "      <td>City Hotel</td>\n",
       "      <td>0</td>\n",
       "      <td>63</td>\n",
       "      <td>2017</td>\n",
       "      <td>August</td>\n",
       "      <td>35</td>\n",
       "      <td>31</td>\n",
       "      <td>0</td>\n",
       "      <td>3</td>\n",
       "      <td>3</td>\n",
       "      <td>...</td>\n",
       "      <td>0</td>\n",
       "      <td>No Deposit</td>\n",
       "      <td>9.0</td>\n",
       "      <td>0</td>\n",
       "      <td>Transient-Party</td>\n",
       "      <td>195.33</td>\n",
       "      <td>0</td>\n",
       "      <td>2</td>\n",
       "      <td>Check-Out</td>\n",
       "      <td>2017-09-03</td>\n",
       "    </tr>\n",
       "    <tr>\n",
       "      <th>119354</th>\n",
       "      <td>City Hotel</td>\n",
       "      <td>0</td>\n",
       "      <td>63</td>\n",
       "      <td>2017</td>\n",
       "      <td>August</td>\n",
       "      <td>35</td>\n",
       "      <td>31</td>\n",
       "      <td>0</td>\n",
       "      <td>3</td>\n",
       "      <td>3</td>\n",
       "      <td>...</td>\n",
       "      <td>0</td>\n",
       "      <td>No Deposit</td>\n",
       "      <td>9.0</td>\n",
       "      <td>0</td>\n",
       "      <td>Transient-Party</td>\n",
       "      <td>195.33</td>\n",
       "      <td>0</td>\n",
       "      <td>2</td>\n",
       "      <td>Check-Out</td>\n",
       "      <td>2017-09-03</td>\n",
       "    </tr>\n",
       "    <tr>\n",
       "      <th>119372</th>\n",
       "      <td>City Hotel</td>\n",
       "      <td>0</td>\n",
       "      <td>175</td>\n",
       "      <td>2017</td>\n",
       "      <td>August</td>\n",
       "      <td>35</td>\n",
       "      <td>31</td>\n",
       "      <td>1</td>\n",
       "      <td>3</td>\n",
       "      <td>1</td>\n",
       "      <td>...</td>\n",
       "      <td>0</td>\n",
       "      <td>No Deposit</td>\n",
       "      <td>42.0</td>\n",
       "      <td>0</td>\n",
       "      <td>Transient</td>\n",
       "      <td>82.35</td>\n",
       "      <td>0</td>\n",
       "      <td>1</td>\n",
       "      <td>Check-Out</td>\n",
       "      <td>2017-09-04</td>\n",
       "    </tr>\n",
       "    <tr>\n",
       "      <th>119373</th>\n",
       "      <td>City Hotel</td>\n",
       "      <td>0</td>\n",
       "      <td>175</td>\n",
       "      <td>2017</td>\n",
       "      <td>August</td>\n",
       "      <td>35</td>\n",
       "      <td>31</td>\n",
       "      <td>1</td>\n",
       "      <td>3</td>\n",
       "      <td>1</td>\n",
       "      <td>...</td>\n",
       "      <td>0</td>\n",
       "      <td>No Deposit</td>\n",
       "      <td>42.0</td>\n",
       "      <td>0</td>\n",
       "      <td>Transient</td>\n",
       "      <td>82.35</td>\n",
       "      <td>0</td>\n",
       "      <td>1</td>\n",
       "      <td>Check-Out</td>\n",
       "      <td>2017-09-04</td>\n",
       "    </tr>\n",
       "  </tbody>\n",
       "</table>\n",
       "<p>42483 rows × 30 columns</p>\n",
       "</div>"
      ],
      "text/plain": [
       "               hotel  is_canceled  lead_time  arrival_date_year  \\\n",
       "4       Resort Hotel            0         14               2015   \n",
       "5       Resort Hotel            0         14               2015   \n",
       "12      Resort Hotel            0         68               2015   \n",
       "15      Resort Hotel            0         68               2015   \n",
       "21      Resort Hotel            0         72               2015   \n",
       "...              ...          ...        ...                ...   \n",
       "119352    City Hotel            0         63               2017   \n",
       "119353    City Hotel            0         63               2017   \n",
       "119354    City Hotel            0         63               2017   \n",
       "119372    City Hotel            0        175               2017   \n",
       "119373    City Hotel            0        175               2017   \n",
       "\n",
       "       arrival_date_month  arrival_date_week_number  \\\n",
       "4                    July                        27   \n",
       "5                    July                        27   \n",
       "12                   July                        27   \n",
       "15                   July                        27   \n",
       "21                   July                        27   \n",
       "...                   ...                       ...   \n",
       "119352             August                        35   \n",
       "119353             August                        35   \n",
       "119354             August                        35   \n",
       "119372             August                        35   \n",
       "119373             August                        35   \n",
       "\n",
       "        arrival_date_day_of_month  stays_in_weekend_nights  \\\n",
       "4                               1                        0   \n",
       "5                               1                        0   \n",
       "12                              1                        0   \n",
       "15                              1                        0   \n",
       "21                              1                        2   \n",
       "...                           ...                      ...   \n",
       "119352                         31                        0   \n",
       "119353                         31                        0   \n",
       "119354                         31                        0   \n",
       "119372                         31                        1   \n",
       "119373                         31                        1   \n",
       "\n",
       "        stays_in_week_nights  adults  ...  booking_changes  deposit_type  \\\n",
       "4                          2       2  ...                0    No Deposit   \n",
       "5                          2       2  ...                0    No Deposit   \n",
       "12                         4       2  ...                0    No Deposit   \n",
       "15                         4       2  ...                0    No Deposit   \n",
       "21                         4       2  ...                1    No Deposit   \n",
       "...                      ...     ...  ...              ...           ...   \n",
       "119352                     3       3  ...                0    No Deposit   \n",
       "119353                     3       3  ...                0    No Deposit   \n",
       "119354                     3       3  ...                0    No Deposit   \n",
       "119372                     3       1  ...                0    No Deposit   \n",
       "119373                     3       1  ...                0    No Deposit   \n",
       "\n",
       "        agent days_in_waiting_list    customer_type     adr  \\\n",
       "4       240.0                    0        Transient   98.00   \n",
       "5       240.0                    0        Transient   98.00   \n",
       "12      240.0                    0        Transient   97.00   \n",
       "15      240.0                    0        Transient   97.00   \n",
       "21      250.0                    0        Transient   84.67   \n",
       "...       ...                  ...              ...     ...   \n",
       "119352    9.0                    0  Transient-Party  195.33   \n",
       "119353    9.0                    0  Transient-Party  195.33   \n",
       "119354    9.0                    0  Transient-Party  195.33   \n",
       "119372   42.0                    0        Transient   82.35   \n",
       "119373   42.0                    0        Transient   82.35   \n",
       "\n",
       "        required_car_parking_spaces  total_of_special_requests  \\\n",
       "4                                 0                          1   \n",
       "5                                 0                          1   \n",
       "12                                0                          3   \n",
       "15                                0                          3   \n",
       "21                                0                          1   \n",
       "...                             ...                        ...   \n",
       "119352                            0                          2   \n",
       "119353                            0                          2   \n",
       "119354                            0                          2   \n",
       "119372                            0                          1   \n",
       "119373                            0                          1   \n",
       "\n",
       "       reservation_status reservation_status_date  \n",
       "4               Check-Out              2015-07-03  \n",
       "5               Check-Out              2015-07-03  \n",
       "12              Check-Out              2015-07-05  \n",
       "15              Check-Out              2015-07-05  \n",
       "21              Check-Out              2015-07-07  \n",
       "...                   ...                     ...  \n",
       "119352          Check-Out              2017-09-03  \n",
       "119353          Check-Out              2017-09-03  \n",
       "119354          Check-Out              2017-09-03  \n",
       "119372          Check-Out              2017-09-04  \n",
       "119373          Check-Out              2017-09-04  \n",
       "\n",
       "[42483 rows x 30 columns]"
      ]
     },
     "execution_count": 5,
     "metadata": {},
     "output_type": "execute_result"
    }
   ],
   "source": [
    "# 查询重复行数,此方法不算第一次出现“重复行”，\n",
    "# 只拿后面的行往前比，所以第一次出现的内容就不算重复行，比如一行重复了3次，那↓方法反馈sum()=2\n",
    "print(df1.duplicated().sum())\n",
    "\n",
    "# 查看哪些记录出现重复值\n",
    "rep_rows = df1[df1.duplicated(keep=False)].shape[0]\n",
    "print(rep_rows)\n",
    "\n",
    "# 查看哪些重复的值，其实数量特别多，没啥意义\n",
    "df1[df1.duplicated(keep=False)]"
   ]
  },
  {
   "cell_type": "code",
   "execution_count": 6,
   "metadata": {},
   "outputs": [
    {
     "name": "stdout",
     "output_type": "stream",
     "text": [
      "去重后： (85628, 30)\n"
     ]
    }
   ],
   "source": [
    "# df1 = pd.read_csv(\"hotel_demand_df1.csv\") git没保存源代码，之前我已经将数据去重复值并进行单独保存\n",
    "# 此处复现去重操作\n",
    "df1.drop_duplicates(keep=\"first\",inplace=True)\n",
    "print(\"去重后：\",df1.shape)"
   ]
  },
  {
   "cell_type": "markdown",
   "metadata": {},
   "source": [
    "### 异常值发现并处理"
   ]
  },
  {
   "cell_type": "code",
   "execution_count": 7,
   "metadata": {},
   "outputs": [],
   "source": [
    "# 针对数据进行异常值筛查\n",
    "# 1.预定没有取消，但周中和周末天数综合=0,即客人当天入住当天退房，暂且不删除\n",
    "no_days = df1[df1[\"is_canceled\"]+df1[\"stays_in_weekend_nights\"]+df1[\"stays_in_week_nights\"]==0]\n",
    "# 2.预定没有取消，但客人数量从成人、儿童、婴儿总和为0\n",
    "no_guest = df1[df1[\"is_canceled\"]+df1[\"adults\"]+df1[\"children\"]+df1[\"babies\"]==0].index # 获取异常值index\n",
    "# print(type(no_guest)) # 没有取消但是并没有人来，因此是异常值\n",
    "df1.drop(no_guest,inplace=True)\n",
    "# print(df1.shape)"
   ]
  },
  {
   "cell_type": "code",
   "execution_count": 8,
   "metadata": {
    "collapsed": true
   },
   "outputs": [
    {
     "data": {
      "text/plain": [
       "BB    66483\n",
       "SC     9752\n",
       "HB     8885\n",
       "FB      359\n",
       "Name: meal, dtype: int64"
      ]
     },
     "execution_count": 8,
     "metadata": {},
     "output_type": "execute_result"
    }
   ],
   "source": [
    "df1[\"meal\"].unique() # 可以查看这一列有哪些值\n",
    "df1[\"meal\"].value_counts() # 可以查看这一列各类数值的求和\n",
    "# 通过meal这一列维度的定义，可以发现undefined 和 SC相同，因此进行替换\n",
    "df1[\"meal\"].replace(\"Undefined\",\"SC\",inplace=True)\n",
    "df1[\"meal\"].value_counts() # 处理后的结果"
   ]
  },
  {
   "cell_type": "code",
   "execution_count": 19,
   "metadata": {},
   "outputs": [],
   "source": [
    "from matplotlib import font_manager\n",
    "# 为画图做准备\n",
    "warnings.filterwarnings(\"ignore\")\n",
    "\n",
    "# 设置中文字体类型\n",
    "# Mac\n",
    "# my_font = font_manager.FontProperties(fname='/System/Library/Fonts/PingFang.ttc',size=10)\n",
    "# Windows\n",
    "my_font = font_manager.FontProperties(fname=r'C:\\Windows\\Fonts\\simsun.ttc',size=10)\n",
    "# 使用中文字体显示\n",
    "plt.rcParams[\"font.sans-serif\"] = \"PingFang\"\n",
    "# 正常显示负数\n",
    "plt.rcParams[\"axes.unicode_minus\"] = False\n",
    "pd.set_option(\"display.max_columns\",36)"
   ]
  },
  {
   "cell_type": "markdown",
   "metadata": {},
   "source": [
    "## 酒店基本情况分析\n",
    "对取消的订单进行处理，即排除被取消的预定需求"
   ]
  },
  {
   "cell_type": "code",
   "execution_count": 29,
   "metadata": {},
   "outputs": [
    {
     "data": {
      "text/plain": [
       "<matplotlib.legend.Legend at 0x19a36b6eee0>"
      ]
     },
     "execution_count": 29,
     "metadata": {},
     "output_type": "execute_result"
    },
    {
     "data": {
      "image/png": "[encoded data removed]",
      "text/plain": [
       "<Figure size 720x360 with 2 Axes>"
      ]
     },
     "metadata": {
      "needs_background": "light"
     },
     "output_type": "display_data"
    }
   ],
   "source": [
    "# 1.总订单量的分析\n",
    "# 1.1 对比两类酒店，取消订单与未取消订单，loc方法本身需要传[“行”，“列”]参数，既可以是数值也可以是名称\n",
    "nocancel_data = df1.loc[df1[\"is_canceled\"]==0] # loc方法可以采用条件筛选\n",
    "cancel_data = df1.loc[df1[\"is_canceled\"]==1]\n",
    "# nocancel_data.head()\n",
    "# nocancel_data_hotel = df1.loc[df1[\"is_canceled\"]==0,[\"hotel\",\"is_canceled\"]] # 条件 + 列名\n",
    "# nocancel_data_hotel.head()\n",
    "\n",
    "# 非取消占比,分别用城市酒店与度假酒店进行数据对比\n",
    "nocancel_percent = nocancel_data[\"hotel\"].value_counts()/df1[\"hotel\"].value_counts() # series类型\n",
    "nocancel_percent_2list = list(nocancel_percent)\n",
    "cancel_percent = cancel_data[\"hotel\"].value_counts()/df1[\"hotel\"].value_counts() # series类型\n",
    "cancel_percent_2list = list(cancel_percent) # 之所以变成list类型，因为下面画图参数需要\n",
    "\n",
    "fig,axes = plt.subplots(1,2,figsize=(10,5))\n",
    "ax1 = sns.countplot(x=\"hotel\",data=df1,ax=axes[0]) \n",
    "# countplot(),是计数画图工具，在第0张画布上，x方向代表hotel，hotel必须是后面data的列元素，data是要统计的数据，\n",
    "# 整体理解：以df1作为data数据，从data中抽取“hotel”，进行分类和统计，最终画在axes[0]这张画布上\n",
    "\n",
    "ax1.set_title(\"总预订需求比例\",fontproperties=my_font)\n",
    "ax1.set_ylabel(\"总预订数量\",fontproperties=my_font)\n",
    "\n",
    "ax2 = plt.bar([1,2],cancel_percent_2list,tick_label=[\"Resort Hotel\",\"City Hotel\"],color=\"#91b493\",label=\"取消率\")\n",
    "# plt.bar([x轴坐标范围]，数据内容，x轴坐标注释（显示），bar颜色，label图例注释)，其中数据内容是关键\n",
    "ax2 = plt.bar([1,2],nocancel_percent_2list,bottom=cancel_percent_2list,color=\"#F6C555\",label=\"入住率\")\n",
    "plt.title(\"酒店入住率及取消率\",fontproperties=my_font)\n",
    "plt.ylabel(\"占比\",fontproperties=my_font)\n",
    "plt.legend(prop=my_font)"
   ]
  },
  {
   "cell_type": "markdown",
   "metadata": {},
   "source": [
    "### 从上图可以看出，城市酒店比度假酒店的总预定量要大，\n",
    "### 对比入住/取消率可以看出城市酒店的入住率要更高，这可能与城市酒店所在的区域以及满足人们需求的各项功能相关"
   ]
  },
  {
   "cell_type": "code",
   "execution_count": 11,
   "metadata": {},
   "outputs": [
    {
     "data": {
      "text/plain": [
       "<function matplotlib.pyplot.show(close=None, block=None)>"
      ]
     },
     "execution_count": 11,
     "metadata": {},
     "output_type": "execute_result"
    },
    {
     "name": "stderr",
     "output_type": "stream",
     "text": [
      "findfont: Font family ['sans-serif'] not found. Falling back to DejaVu Sans.\n"
     ]
    },
    {
     "data": {
      "image/png": "[encoded data removed]",
      "text/plain": [
       "<Figure size 432x288 with 1 Axes>"
      ]
     },
     "metadata": {
      "needs_background": "light"
     },
     "output_type": "display_data"
    }
   ],
   "source": [
    "# 2.最简单的统计分析，2015-2017年两类酒店每年预订的总数是多少\n",
    "# 按照hotel和arrival_date_year来进行分组,并hotel这列计数\n",
    "group_by_hotel_year = df1.groupby([\"hotel\",\"arrival_date_year\"])[\"hotel\"].count()\n",
    "# print(group_by_hotel_year.count())\n",
    "# print(type(group_by_hotel_year))\n",
    "# print(group_by_hotel_year)\n",
    "\n",
    "C_2015 = group_by_hotel_year[\"City Hotel\"][2015]\n",
    "groups_by_h_y = df1.groupby([\"hotel\",\"arrival_date_year\"])\n",
    "# 定义年份和订单总量，两个列表\n",
    "years = list()\n",
    "hotel_orders_total_count = list()\n",
    "for hotel,group in groups_by_h_y:\n",
    "#     print(hotel)\n",
    "    years.append(hotel[1])\n",
    "#     print(\"-\"*40)\n",
    "#     print(group[\"arrival_date_year\"].count())\n",
    "    hotel_orders_total_count.append(int(group[\"arrival_date_year\"].count()))\n",
    "# print(years[:3])\n",
    "# print(hotel_orders_total_count)\n",
    "years = years[:3]\n",
    "City_Hotel_orders = hotel_orders_total_count[:3]\n",
    "Resort_Hotel_orders = hotel_orders_total_count[3:]\n",
    "s = pd.DataFrame(\n",
    "    {\"City Hotel\":City_Hotel_orders,\n",
    "     \"Resort Hotel\":Resort_Hotel_orders\n",
    "    },\n",
    "    index=years\n",
    "    )\n",
    "s.plot(kind=\"bar\")\n",
    "plt.grid(linestyle=\"--\",alpha=0.5)\n",
    "plt.xlabel(\"year\")\n",
    "plt.ylabel(\"num_of_orders\")\n",
    "plt.show"
   ]
  },
  {
   "cell_type": "code",
   "execution_count": 12,
   "metadata": {},
   "outputs": [],
   "source": [
    "# 上述图片没有数据标签，不太好看，我们考虑另一种办法添加数据标签\n",
    "# # 使用hist画直方图\n",
    "# plt.hist([City_Hotel_orders,Resort_Hotel_orders],bins,label=[\"City Hotel\",\"Resort Hotel\"])\n",
    "# plt.show()  这一部分比较耽误时间，暂且放置一旁"
   ]
  },
  {
   "cell_type": "markdown",
   "metadata": {},
   "source": [
    "### 由上图我们可以看出，2015年城市酒店比度假酒店预定量要少，而之后的2016与2017年城市酒店比度假酒店的预定量有明显的增多\n",
    "\n"
   ]
  },
  {
   "cell_type": "code",
   "execution_count": 54,
   "metadata": {},
   "outputs": [
    {
     "data": {
      "text/plain": [
       "<bound method NDFrame.head of August       1001\n",
       "July          989\n",
       "October       968\n",
       "September     896\n",
       "December      797\n",
       "November      742\n",
       "Name: arrival_date_month, dtype: int64>"
      ]
     },
     "execution_count": 54,
     "metadata": {},
     "output_type": "execute_result"
    }
   ],
   "source": [
    "# 查看有多少年\n",
    "# nocancel_data[\"arrival_date_year\"].unique() 显示2015、2016、2017年\n",
    "# 查看这3年，每月的订单量走势图，\n",
    "# data_month_2015 = nocancel_data.loc[nocancel_data[\"arrival_date_year\"]==2015][\"arrival_date_month\"].value_counts()# .value_count()\n",
    "# print(data_month_2015)\n",
    "data_month_2015 = nocancel_data.loc[nocancel_data[\"arrival_date_year\"]==2015,[\"hotel\",\"arrival_date_month\"]]\n",
    "R_month_data = data_month_2015.loc[data_month_2015[\"hotel\"]=='Resort Hotel'][\"arrival_date_month\"].value_counts()\n",
    "R_month_data.head"
   ]
  },
  {
   "cell_type": "code",
   "execution_count": 55,
   "metadata": {
    "scrolled": true
   },
   "outputs": [
    {
     "data": {
      "text/plain": [
       "<bound method NDFrame.head of September    1259\n",
       "October      1187\n",
       "August        828\n",
       "December      764\n",
       "November      592\n",
       "July          154\n",
       "Name: arrival_date_month, dtype: int64>"
      ]
     },
     "execution_count": 55,
     "metadata": {},
     "output_type": "execute_result"
    }
   ],
   "source": [
    "C_month_data = data_month_2015.loc[data_month_2015[\"hotel\"]=='City Hotel'][\"arrival_date_month\"].value_counts()\n",
    "C_month_data.head"
   ]
  },
  {
   "cell_type": "code",
   "execution_count": null,
   "metadata": {},
   "outputs": [],
   "source": []
  },
  {
   "cell_type": "code",
   "execution_count": null,
   "metadata": {},
   "outputs": [],
   "source": []
  },
  {
   "cell_type": "code",
   "execution_count": null,
   "metadata": {},
   "outputs": [],
   "source": []
  },
  {
   "cell_type": "code",
   "execution_count": null,
   "metadata": {},
   "outputs": [],
   "source": []
  },
  {
   "cell_type": "code",
   "execution_count": null,
   "metadata": {},
   "outputs": [],
   "source": []
  },
  {
   "cell_type": "code",
   "execution_count": null,
   "metadata": {},
   "outputs": [],
   "source": []
  },
  {
   "cell_type": "code",
   "execution_count": null,
   "metadata": {},
   "outputs": [],
   "source": []
  },
  {
   "cell_type": "code",
   "execution_count": null,
   "metadata": {},
   "outputs": [],
   "source": []
  },
  {
   "cell_type": "code",
   "execution_count": null,
   "metadata": {},
   "outputs": [],
   "source": []
  },
  {
   "cell_type": "code",
   "execution_count": null,
   "metadata": {},
   "outputs": [],
   "source": []
  },
  {
   "cell_type": "code",
   "execution_count": null,
   "metadata": {},
   "outputs": [],
   "source": []
  },
  {
   "cell_type": "code",
   "execution_count": null,
   "metadata": {},
   "outputs": [],
   "source": []
  },
  {
   "cell_type": "code",
   "execution_count": null,
   "metadata": {},
   "outputs": [],
   "source": []
  },
  {
   "cell_type": "code",
   "execution_count": null,
   "metadata": {},
   "outputs": [],
   "source": []
  },
  {
   "cell_type": "code",
   "execution_count": null,
   "metadata": {},
   "outputs": [],
   "source": []
  },
  {
   "cell_type": "code",
   "execution_count": null,
   "metadata": {},
   "outputs": [],
   "source": []
  },
  {
   "cell_type": "code",
   "execution_count": null,
   "metadata": {},
   "outputs": [],
   "source": []
  },
  {
   "cell_type": "code",
   "execution_count": null,
   "metadata": {},
   "outputs": [],
   "source": []
  },
  {
   "cell_type": "code",
   "execution_count": null,
   "metadata": {},
   "outputs": [],
   "source": []
  }
 ],
 "metadata": {
  "kernelspec": {
   "display_name": "Python 3",
   "language": "python",
   "name": "python3"
  },
  "language_info": {
   "codemirror_mode": {
    "name": "ipython",
    "version": 3
   },
   "file_extension": ".py",
   "mimetype": "text/x-python",
   "name": "python",
   "nbconvert_exporter": "python",
   "pygments_lexer": "ipython3",
   "version": "3.8.5"
  },
  "toc": {
   "base_numbering": 1,
   "nav_menu": {},
   "number_sections": true,
   "sideBar": true,
   "skip_h1_title": false,
   "title_cell": "Table of Contents",
   "title_sidebar": "Contents",
   "toc_cell": false,
   "toc_position": {},
   "toc_section_display": true,
   "toc_window_display": false
  }
 },
 "nbformat": 4,
 "nbformat_minor": 4
}
